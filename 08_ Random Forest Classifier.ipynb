{
 "cells": [
  {
   "cell_type": "markdown",
   "id": "baba1588",
   "metadata": {},
   "source": [
    "## 08_Random Forest Classifier"
   ]
  },
  {
   "cell_type": "code",
   "execution_count": 1,
   "id": "cc62725b",
   "metadata": {},
   "outputs": [],
   "source": [
    "import seaborn as sns\n",
    "import pandas as pd\n",
    "from sklearn.model_selection import train_test_split\n",
    "from sklearn.preprocessing import LabelEncoder, RobustScaler\n",
    "from sklearn.tree import DecisionTreeClassifier\n",
    "\n",
    "# 데이터 로드 및 초기 확인\n",
    "titanic = sns.load_dataset('titanic')\n",
    "\n",
    "# 중복된 데이터 제거\n",
    "prep_data = titanic.drop(columns=['alive', 'who', 'adult_male', 'class', 'embark_town'])\n",
    "prep_data.drop(\"deck\", axis=1, inplace=True)\n",
    "\n",
    "# 결측치를 정리하자\n",
    "# embarked(항구정보) 열의 결측값을 'na'로 채우기\n",
    "prep_data[\"embarked\"] = prep_data.embarked.fillna('na')\n",
    "\n",
    "# 나이의 결측값을 평균값으로 대체\n",
    "prep_data[\"age\"] = prep_data.age.transform(lambda x: x.fillna(x.mean()))\n",
    "\n",
    "le = LabelEncoder()\n",
    "prep_data['sex'] = le.fit_transform(prep_data['sex'])\n",
    "prep_data['alone'] = le.fit_transform(prep_data['alone'])\n",
    "\n",
    "prep_data = pd.get_dummies(prep_data, prefix='', prefix_sep='').astype(int)\n",
    "\n",
    "X_train, X_test, y_train, y_test = train_test_split(prep_data.iloc[:, 1:], \n",
    "                                                   prep_data.iloc[:, 0],\n",
    "                                                   random_state=42)\n",
    "\n",
    "# 특징(feature)와 레이블(label) 분리 및 데이터 분할\n",
    "X_train, X_test, y_train, y_test = train_test_split(prep_data.iloc[:, 1:], \n",
    "                                                   prep_data.iloc[:, 0],\n",
    "                                                   random_state=42)\n",
    "\n",
    "# 스케일링\n",
    "scaler = RobustScaler()\n",
    "X_train_scaled = scaler.fit_transform(X_train)\n",
    "X_test_scaled = scaler.transform(X_test)"
   ]
  },
  {
   "cell_type": "code",
   "execution_count": null,
   "id": "75dd3b6d",
   "metadata": {},
   "outputs": [],
   "source": []
  },
  {
   "cell_type": "code",
   "execution_count": null,
   "id": "3fc58439",
   "metadata": {},
   "outputs": [],
   "source": []
  },
  {
   "cell_type": "code",
   "execution_count": null,
   "id": "508e3e56",
   "metadata": {},
   "outputs": [],
   "source": []
  },
  {
   "cell_type": "code",
   "execution_count": null,
   "id": "d1595c77",
   "metadata": {},
   "outputs": [],
   "source": []
  },
  {
   "cell_type": "code",
   "execution_count": null,
   "id": "175b46c4",
   "metadata": {},
   "outputs": [],
   "source": []
  },
  {
   "cell_type": "code",
   "execution_count": null,
   "id": "4bfa5af4",
   "metadata": {},
   "outputs": [],
   "source": []
  },
  {
   "cell_type": "code",
   "execution_count": null,
   "id": "5e6df02e",
   "metadata": {},
   "outputs": [],
   "source": []
  },
  {
   "cell_type": "code",
   "execution_count": null,
   "id": "af445539",
   "metadata": {},
   "outputs": [],
   "source": []
  },
  {
   "cell_type": "code",
   "execution_count": null,
   "id": "cae60a80",
   "metadata": {},
   "outputs": [],
   "source": []
  },
  {
   "cell_type": "code",
   "execution_count": null,
   "id": "0a72e1e9",
   "metadata": {},
   "outputs": [],
   "source": []
  },
  {
   "cell_type": "code",
   "execution_count": null,
   "id": "bb46bf05",
   "metadata": {},
   "outputs": [],
   "source": []
  }
 ],
 "metadata": {
  "kernelspec": {
   "display_name": "Python 3 (ipykernel)",
   "language": "python",
   "name": "python3"
  },
  "language_info": {
   "codemirror_mode": {
    "name": "ipython",
    "version": 3
   },
   "file_extension": ".py",
   "mimetype": "text/x-python",
   "name": "python",
   "nbconvert_exporter": "python",
   "pygments_lexer": "ipython3",
   "version": "3.11.7"
  }
 },
 "nbformat": 4,
 "nbformat_minor": 5
}
